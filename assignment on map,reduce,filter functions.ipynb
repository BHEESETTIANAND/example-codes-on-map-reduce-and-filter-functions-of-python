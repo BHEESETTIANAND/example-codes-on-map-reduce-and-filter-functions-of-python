{
 "cells": [
  {
   "cell_type": "markdown",
   "id": "518c0f18",
   "metadata": {},
   "source": [
    "# Python Program to find the squares of all the numbers in the given list of integers using lambda and map functions\n"
   ]
  },
  {
   "cell_type": "code",
   "execution_count": 25,
   "id": "ecd64854",
   "metadata": {},
   "outputs": [
    {
     "name": "stdout",
     "output_type": "stream",
     "text": [
      "[1, 4, 9, 16, 25, 36, 49, 64, 81, 100]\n"
     ]
    }
   ],
   "source": [
    "a=[1, 2, 3, 4, 5, 6, 7, 8, 9, 10]\n",
    "b=list(map(lambda x:x**2,a))\n",
    "print(b)"
   ]
  },
  {
   "cell_type": "markdown",
   "id": "97112ab5",
   "metadata": {},
   "source": [
    "# A python program to convert the given list of integers into a tuple of strings. Using map and lambda functions\n",
    "        Given String: [1, 2, 3, 4, 5, 6, 7, 8, 9, 10]\n",
    "        Expected output: ('1', '2', '3', '4', '5', '6', '7', '8', '9', '10')"
   ]
  },
  {
   "cell_type": "code",
   "execution_count": 26,
   "id": "df41cb6f",
   "metadata": {},
   "outputs": [
    {
     "name": "stdout",
     "output_type": "stream",
     "text": [
      "('1', '2', '3', '4', '5', '6', '7', '8', '9', '10')\n"
     ]
    }
   ],
   "source": [
    "c=[1, 2, 3, 4, 5, 6, 7, 8, 9, 10]\n",
    "d=tuple(map(lambda x:str(x),c))\n",
    "print(d)"
   ]
  },
  {
   "cell_type": "markdown",
   "id": "3a35bc01",
   "metadata": {},
   "source": [
    " # A python program using reduce function to compute the product of a list containing numbers from 1 to 25."
   ]
  },
  {
   "cell_type": "code",
   "execution_count": 27,
   "id": "bc15dfc3",
   "metadata": {},
   "outputs": [
    {
     "name": "stdout",
     "output_type": "stream",
     "text": [
      "[1, 2, 3, 4, 5, 6, 7, 8, 9, 10, 11, 12, 13, 14, 15, 16, 17, 18, 19, 20, 21, 22, 23, 24, 25]"
     ]
    }
   ],
   "source": [
    "e=list(range(1,26))\n",
    "print(e,end=\"\")"
   ]
  },
  {
   "cell_type": "code",
   "execution_count": 28,
   "id": "a4ee83ee",
   "metadata": {},
   "outputs": [
    {
     "name": "stdout",
     "output_type": "stream",
     "text": [
      "15511210043330985984000000\n"
     ]
    }
   ],
   "source": [
    "from functools import reduce\n",
    "f=reduce(lambda x,y:x*y,e)\n",
    "print(f)"
   ]
  },
  {
   "cell_type": "markdown",
   "id": "30d3e0aa",
   "metadata": {},
   "source": [
    "# A python program to filter the numbers in a given list that are divisible by 2 and 3 using the filter function.\n",
    "                                [2, 3, 6, 9, 27, 60, 90, 120, 55, 46]"
   ]
  },
  {
   "cell_type": "code",
   "execution_count": 29,
   "id": "c6b8e089",
   "metadata": {},
   "outputs": [
    {
     "name": "stdout",
     "output_type": "stream",
     "text": [
      "[2, 3, 6, 9, 27, 60, 90, 120, 46]\n"
     ]
    }
   ],
   "source": [
    "g=[2, 3, 6, 9, 27, 60, 90, 120, 55, 46]\n",
    "h=list(filter(lambda x:x%2==0 or x%3==0,g))\n",
    "print(h)"
   ]
  },
  {
   "cell_type": "markdown",
   "id": "bb7e42a4",
   "metadata": {},
   "source": [
    "# A python program to find palindromes in the given list of strings using lambda and filter function.\n",
    "                        ['python', 'php', 'aba', 'radar', 'level']"
   ]
  },
  {
   "cell_type": "code",
   "execution_count": 31,
   "id": "bb95005d",
   "metadata": {},
   "outputs": [
    {
     "name": "stdout",
     "output_type": "stream",
     "text": [
      "['php', 'aba', 'radar', 'level']\n"
     ]
    }
   ],
   "source": [
    "i= ['python', 'php', 'aba', 'radar', 'level']\n",
    "j=list(filter(lambda x:x==x[::-1],i))\n",
    "print(j)"
   ]
  },
  {
   "cell_type": "code",
   "execution_count": null,
   "id": "9937405a",
   "metadata": {},
   "outputs": [],
   "source": []
  }
 ],
 "metadata": {
  "kernelspec": {
   "display_name": "Python 3 (ipykernel)",
   "language": "python",
   "name": "python3"
  },
  "language_info": {
   "codemirror_mode": {
    "name": "ipython",
    "version": 3
   },
   "file_extension": ".py",
   "mimetype": "text/x-python",
   "name": "python",
   "nbconvert_exporter": "python",
   "pygments_lexer": "ipython3",
   "version": "3.9.13"
  }
 },
 "nbformat": 4,
 "nbformat_minor": 5
}
